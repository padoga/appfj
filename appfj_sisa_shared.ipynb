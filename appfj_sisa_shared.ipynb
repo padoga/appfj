{
 "cells": [
  {
   "cell_type": "code",
   "execution_count": 1,
   "metadata": {},
   "outputs": [],
   "source": [
    "from bs4 import BeautifulSoup\n",
    "from selenium import webdriver\n",
    "import time"
   ]
  },
  {
   "cell_type": "code",
   "execution_count": 20,
   "metadata": {},
   "outputs": [],
   "source": [
    "url = 'http://kims4all.kr/login.aspx?ReturnUrl=%2fAPPFJ%2fDefault.aspx'\n",
    "\n",
    "# 정리하려는 상식 중 가장 최신 아이템 페이지의 웹주소를 확인하면 됩니다.\n",
    "# 예를들어, 'http://kims4all.kr/APPFJ/MediaTest/View.aspx?Num=5988&BoardName=generalKnowledge' 이곳의 Num=다음의 숫자를 입력하면 됩니다. \n",
    "\n",
    "start_num=int(input('시작 번호를 입력하세요(큰 수)')) # 예시:5978\n",
    "stop_num=int(input('종료 번호를 입력하세요(작은 수)')) # 예시:5969\n",
    "target_num=start_num \n",
    "scrap_count = 0\n",
    "remaining_count = start_num - stop_num + 1\n",
    "error_count = 0\n",
    "\n",
    "title_list=[]\n",
    "definition_list=[]\n",
    "example_list=[]  \n",
    "note_list=[]\n",
    "\n",
    "month = input('월을 입력하세요') # 예시: 6\n",
    "week = input('주를 입력하세요') # 예시: 1\n"
   ]
  },
  {
   "cell_type": "code",
   "execution_count": 21,
   "metadata": {},
   "outputs": [
    {
     "name": "stdout",
     "output_type": "stream",
     "text": [
      "5번째 상식 정리 완료... 남은 상식 5개\n",
      "1번째 삭제된 페이지 발견: 5970\n",
      "10번째 상식 정리 완료... 남은 상식 0개\n",
      "상식 정리 완료. 정리된 상식 총 9개, 삭제된 페이지 1개\n"
     ]
    }
   ],
   "source": [
    "driver = webdriver.Chrome(executable_path=r'C:\\Users\\judya\\Desktop\\취준\\chromedriver_win32\\chromedriver.exe')\n",
    "driver.get(url)\n",
    "\n",
    "time.sleep(1)\n",
    "\n",
    "# 로그인\n",
    "driver.find_element_by_name(\"Login1$UserName\").send_keys('박윤주')\n",
    "driver.find_element_by_name(\"Login1$Password\").send_keys('1234')\n",
    "driver.find_element_by_name('Login1$LoginButton').click()\n",
    "time.sleep(1)\n",
    "\n",
    "# 스크래핑 \n",
    "while scrap_count < (start_num - stop_num + 1 ): \n",
    "\n",
    "    scrap_count += 1\n",
    "    remaining_count -=1 \n",
    "    \n",
    "    driver.get(f'http://kims4all.kr/APPFJ/MediaTest/View.aspx?Num={target_num}&BoardName=generalKnowledge')\n",
    "    html = driver.page_source\n",
    "    soup = BeautifulSoup(html, 'lxml')\n",
    "\n",
    "    # 표제어 가져오기\n",
    "    title = soup.select_one('#ctl00_ContentPlaceHolder1_lblWordNPhrase').get_text()\n",
    "    \n",
    "    if title == '':\n",
    "        \n",
    "        error_count +=1\n",
    "        print(f'{error_count}번째 삭제된 페이지 발견: {target_num}')\n",
    "        target_num -=1\n",
    "        \n",
    "        continue\n",
    "\n",
    "    title_list.append(title) \n",
    "\n",
    "    # 정의 가져오기 \n",
    "    definition = soup.select_one('#ctl00_ContentPlaceHolder1_lblSentence').get_text()\n",
    "    definition_list.append(definition) \n",
    "\n",
    "    # 예문 가져오기 \n",
    "    example = soup.select_one('#ctl00_ContentPlaceHolder1_lblNote').get_text()\n",
    "    example_list.append(example)\n",
    "\n",
    "    # 특기사항 가져오기 \n",
    "    note = soup.select_one('#ctl00_ContentPlaceHolder1_lblQuestions').get_text()\n",
    "    note_list.append(note) \n",
    "    \n",
    "    target_num -=1\n",
    "        \n",
    "    if scrap_count%5 == 0 :\n",
    "            print(f'{scrap_count}번째 상식 정리 완료... 남은 상식 {remaining_count}개')\n",
    "    \n",
    "print(f'상식 정리 완료. 정리된 상식 총 {len(title_list)}개, 삭제된 페이지 {error_count}개')\n",
    "    "
   ]
  },
  {
   "cell_type": "code",
   "execution_count": 22,
   "metadata": {},
   "outputs": [],
   "source": [
    "from docx import Document \n",
    "from docx.shared import Pt\n",
    "from docx2pdf import convert\n",
    "\n",
    "# install 방법: prompt에서 pip install python-docx\n",
    "# pip install docx2pdf"
   ]
  },
  {
   "cell_type": "code",
   "execution_count": 24,
   "metadata": {},
   "outputs": [
    {
     "name": "stderr",
     "output_type": "stream",
     "text": [
      "100%|██████████| 1/1 [01:16<00:00, 76.20s/it]\n",
      "100%|██████████| 1/1 [00:04<00:00,  4.33s/it]"
     ]
    },
    {
     "name": "stdout",
     "output_type": "stream",
     "text": [
      "6월 1주차 상식 파일 생성 완료\n"
     ]
    }
   ],
   "source": [
    "document = Document()\n",
    "doc_num=0\n",
    "\n",
    "style = document.styles['Normal']\n",
    "style.font.name = '맑은 고딕'\n",
    "style.font.size = Pt(10)\n",
    "\n",
    "for i in range(len(title_list)):\n",
    "\n",
    "    \n",
    "    paragraph=document.add_paragraph(f'{doc_num+1}. '+title_list[doc_num])\n",
    "    document.add_paragraph(definition_list[doc_num])\n",
    "    \n",
    "    if example_list[doc_num] != '':\n",
    "        document.add_paragraph(example_list[doc_num])\n",
    "    \n",
    "    if note_list[doc_num] !='':\n",
    "        document.add_paragraph(note_list[doc_num])\n",
    "    document.add_paragraph()\n",
    "    \n",
    "    doc_num +=1\n",
    "\n",
    "document.save(f'아프지 {month}월 {week}주차 시사상식.docx')\n",
    "\n",
    "# 경로지정\n",
    "input_file = 'C:\\\\Users\\\\judya\\\\Desktop\\\\취준\\\\상식\\\\아프지\\\\' + f'아프지 {month}월 {week}주차 시사상식.docx'\n",
    "output_file = 'C:\\\\Users\\\\judya\\\\Desktop\\\\취준\\\\상식\\\\아프지\\\\' + f'아프지 {month}월 {week}주차 시사상식.pdf'    \n",
    "\n",
    "convert(input_file, output_file)\n",
    "\n",
    "print(f'{month}월 {week}주차 상식 파일 생성 완료')\n"
   ]
  }
 ],
 "metadata": {
  "interpreter": {
   "hash": "d669fae52803923f386ff746ba611839b3484260742c9d908832b489ed948615"
  },
  "kernelspec": {
   "display_name": "Python 3.8.8 ('base')",
   "language": "python",
   "name": "python3"
  },
  "language_info": {
   "codemirror_mode": {
    "name": "ipython",
    "version": 3
   },
   "file_extension": ".py",
   "mimetype": "text/x-python",
   "name": "python",
   "nbconvert_exporter": "python",
   "pygments_lexer": "ipython3",
   "version": "3.8.8"
  },
  "orig_nbformat": 4
 },
 "nbformat": 4,
 "nbformat_minor": 2
}
